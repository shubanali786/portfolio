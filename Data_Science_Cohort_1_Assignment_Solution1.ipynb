{
  "cells": [
    {
      "cell_type": "markdown",
      "metadata": {
        "id": "view-in-github",
        "colab_type": "text"
      },
      "source": [
        "<a href=\"https://colab.research.google.com/github/shubanali786/copilot-codespaces-vscode/blob/main/Data_Science_Cohort_1_Assignment_Solution1.ipynb\" target=\"_parent\"><img src=\"https://colab.research.google.com/assets/colab-badge.svg\" alt=\"Open In Colab\"/></a>"
      ]
    },
    {
      "cell_type": "markdown",
      "metadata": {
        "id": "T3XxEcjKt2fK"
      },
      "source": [
        "<hr style=\"border:5px solid #002060\"> </hr>"
      ]
    },
    {
      "cell_type": "markdown",
      "metadata": {
        "id": "VBbmm_Vlt2fM"
      },
      "source": [
        "# pandas Fundamentals <hr style=\"border:4.5px solid #002060\"> </hr>"
      ]
    },
    {
      "cell_type": "markdown",
      "metadata": {
        "id": "Y4Qkz0Oft2fM"
      },
      "source": [
        "## Introduction to pandas Series"
      ]
    },
    {
      "cell_type": "markdown",
      "metadata": {
        "id": "-_0rWfz6t2fM"
      },
      "source": [
        "Import the 'pandas' library to load it into the computer's memory, so that you can work with it in this Notebook Document.\n",
        "\n",
        "<br/> *Note: Don't forget to use the widely-accepted convention as well.*\n",
        "\n",
        "<br/> Remember that no matter how many times you execute this code cell, the library will be imported only once in this Document, and it will remain active."
      ]
    },
    {
      "cell_type": "code",
      "execution_count": null,
      "metadata": {
        "id": "8qpBGJy1t2fN"
      },
      "outputs": [],
      "source": [
        "import pandas as pd"
      ]
    },
    {
      "cell_type": "markdown",
      "metadata": {
        "id": "O5ScQbI1t2fN"
      },
      "source": [
        "Create the **employee_names** list."
      ]
    },
    {
      "cell_type": "code",
      "execution_count": null,
      "metadata": {
        "colab": {
          "base_uri": "https://localhost:8080/"
        },
        "id": "gJNlkoTFt2fN",
        "outputId": "4cec7a08-f69c-4d38-c729-d27f83daddec"
      },
      "outputs": [
        {
          "output_type": "execute_result",
          "data": {
            "text/plain": [
              "['Amy White', 'Jack Stewart', 'Richard Lauderdale', 'Sara Johnson']"
            ]
          },
          "metadata": {},
          "execution_count": 5
        }
      ],
      "source": [
        "employee_names = ['Amy White', 'Jack Stewart', 'Richard Lauderdale', 'Sara Johnson']\n",
        "employee_names"
      ]
    },
    {
      "cell_type": "markdown",
      "metadata": {
        "id": "6NeDDq4bt2fO"
      },
      "source": [
        "Verify the **employee_names** object is a list."
      ]
    },
    {
      "cell_type": "code",
      "execution_count": null,
      "metadata": {
        "colab": {
          "base_uri": "https://localhost:8080/"
        },
        "id": "s769Pn2nt2fO",
        "outputId": "a65a93c8-eb18-4010-c505-e2e75836d938"
      },
      "outputs": [
        {
          "output_type": "execute_result",
          "data": {
            "text/plain": [
              "list"
            ]
          },
          "metadata": {},
          "execution_count": 6
        }
      ],
      "source": [
        "type(employee_names)"
      ]
    },
    {
      "cell_type": "markdown",
      "metadata": {
        "id": "iEwRRIP7t2fO"
      },
      "source": [
        "Create a pandas Series object containing the elements from the **employee_names** list. Call it **employee_names_Series**."
      ]
    },
    {
      "source": [
        "employee_names_Series = pd.Series(employee_names)"
      ],
      "cell_type": "code",
      "metadata": {
        "id": "FK7Zeo7Jf_Zu"
      },
      "execution_count": null,
      "outputs": []
    },
    {
      "cell_type": "markdown",
      "metadata": {
        "id": "u1mXUvpWt2fP"
      },
      "source": [
        "Confirm the object is of the Series type."
      ]
    },
    {
      "cell_type": "code",
      "execution_count": null,
      "metadata": {
        "colab": {
          "base_uri": "https://localhost:8080/",
          "height": 204
        },
        "id": "7uCI3GgWt2fP",
        "outputId": "69d8c41e-3d9c-4032-c3ab-471bf09c4c97"
      },
      "outputs": [
        {
          "output_type": "execute_result",
          "data": {
            "text/plain": [
              "pandas.core.series.Series"
            ],
            "text/html": [
              "<div style=\"max-width:800px; border: 1px solid var(--colab-border-color);\"><style>\n",
              "      pre.function-repr-contents {\n",
              "        overflow-x: auto;\n",
              "        padding: 8px 12px;\n",
              "        max-height: 500px;\n",
              "      }\n",
              "\n",
              "      pre.function-repr-contents.function-repr-contents-collapsed {\n",
              "        cursor: pointer;\n",
              "        max-height: 100px;\n",
              "      }\n",
              "    </style>\n",
              "    <pre style=\"white-space: initial; background:\n",
              "         var(--colab-secondary-surface-color); padding: 8px 12px;\n",
              "         border-bottom: 1px solid var(--colab-border-color);\"><b>pandas.core.series.Series</b><br/>def __init__(data=None, index=None, dtype: Dtype | None=None, name=None, copy: bool | None=None, fastpath: bool | lib.NoDefault=lib.no_default) -&gt; None</pre><pre class=\"function-repr-contents function-repr-contents-collapsed\" style=\"\"><a class=\"filepath\" style=\"display:none\" href=\"#\">/usr/local/lib/python3.10/dist-packages/pandas/core/series.py</a>One-dimensional ndarray with axis labels (including time series).\n",
              "\n",
              "Labels need not be unique but must be a hashable type. The object\n",
              "supports both integer- and label-based indexing and provides a host of\n",
              "methods for performing operations involving the index. Statistical\n",
              "methods from ndarray have been overridden to automatically exclude\n",
              "missing data (currently represented as NaN).\n",
              "\n",
              "Operations between Series (+, -, /, \\*, \\*\\*) align values based on their\n",
              "associated index values-- they need not be the same length. The result\n",
              "index will be the sorted union of the two indexes.\n",
              "\n",
              "Parameters\n",
              "----------\n",
              "data : array-like, Iterable, dict, or scalar value\n",
              "    Contains data stored in Series. If data is a dict, argument order is\n",
              "    maintained.\n",
              "index : array-like or Index (1d)\n",
              "    Values must be hashable and have the same length as `data`.\n",
              "    Non-unique index values are allowed. Will default to\n",
              "    RangeIndex (0, 1, 2, ..., n) if not provided. If data is dict-like\n",
              "    and index is None, then the keys in the data are used as the index. If the\n",
              "    index is not None, the resulting Series is reindexed with the index values.\n",
              "dtype : str, numpy.dtype, or ExtensionDtype, optional\n",
              "    Data type for the output Series. If not specified, this will be\n",
              "    inferred from `data`.\n",
              "    See the :ref:`user guide &lt;basics.dtypes&gt;` for more usages.\n",
              "name : Hashable, default None\n",
              "    The name to give to the Series.\n",
              "copy : bool, default False\n",
              "    Copy input data. Only affects Series or 1d ndarray input. See examples.\n",
              "\n",
              "Notes\n",
              "-----\n",
              "Please reference the :ref:`User Guide &lt;basics.series&gt;` for more information.\n",
              "\n",
              "Examples\n",
              "--------\n",
              "Constructing Series from a dictionary with an Index specified\n",
              "\n",
              "&gt;&gt;&gt; d = {&#x27;a&#x27;: 1, &#x27;b&#x27;: 2, &#x27;c&#x27;: 3}\n",
              "&gt;&gt;&gt; ser = pd.Series(data=d, index=[&#x27;a&#x27;, &#x27;b&#x27;, &#x27;c&#x27;])\n",
              "&gt;&gt;&gt; ser\n",
              "a   1\n",
              "b   2\n",
              "c   3\n",
              "dtype: int64\n",
              "\n",
              "The keys of the dictionary match with the Index values, hence the Index\n",
              "values have no effect.\n",
              "\n",
              "&gt;&gt;&gt; d = {&#x27;a&#x27;: 1, &#x27;b&#x27;: 2, &#x27;c&#x27;: 3}\n",
              "&gt;&gt;&gt; ser = pd.Series(data=d, index=[&#x27;x&#x27;, &#x27;y&#x27;, &#x27;z&#x27;])\n",
              "&gt;&gt;&gt; ser\n",
              "x   NaN\n",
              "y   NaN\n",
              "z   NaN\n",
              "dtype: float64\n",
              "\n",
              "Note that the Index is first build with the keys from the dictionary.\n",
              "After this the Series is reindexed with the given Index values, hence we\n",
              "get all NaN as a result.\n",
              "\n",
              "Constructing Series from a list with `copy=False`.\n",
              "\n",
              "&gt;&gt;&gt; r = [1, 2]\n",
              "&gt;&gt;&gt; ser = pd.Series(r, copy=False)\n",
              "&gt;&gt;&gt; ser.iloc[0] = 999\n",
              "&gt;&gt;&gt; r\n",
              "[1, 2]\n",
              "&gt;&gt;&gt; ser\n",
              "0    999\n",
              "1      2\n",
              "dtype: int64\n",
              "\n",
              "Due to input data type the Series has a `copy` of\n",
              "the original data even though `copy=False`, so\n",
              "the data is unchanged.\n",
              "\n",
              "Constructing Series from a 1d ndarray with `copy=False`.\n",
              "\n",
              "&gt;&gt;&gt; r = np.array([1, 2])\n",
              "&gt;&gt;&gt; ser = pd.Series(r, copy=False)\n",
              "&gt;&gt;&gt; ser.iloc[0] = 999\n",
              "&gt;&gt;&gt; r\n",
              "array([999,   2])\n",
              "&gt;&gt;&gt; ser\n",
              "0    999\n",
              "1      2\n",
              "dtype: int64\n",
              "\n",
              "Due to input data type the Series has a `view` on\n",
              "the original data, so\n",
              "the data is changed as well.</pre>\n",
              "      <script>\n",
              "      if (google.colab.kernel.accessAllowed && google.colab.files && google.colab.files.view) {\n",
              "        for (const element of document.querySelectorAll('.filepath')) {\n",
              "          element.style.display = 'block'\n",
              "          element.onclick = (event) => {\n",
              "            event.preventDefault();\n",
              "            event.stopPropagation();\n",
              "            google.colab.files.view(element.textContent, 263);\n",
              "          };\n",
              "        }\n",
              "      }\n",
              "      for (const element of document.querySelectorAll('.function-repr-contents')) {\n",
              "        element.onclick = (event) => {\n",
              "          event.preventDefault();\n",
              "          event.stopPropagation();\n",
              "          element.classList.toggle('function-repr-contents-collapsed');\n",
              "        };\n",
              "      }\n",
              "      </script>\n",
              "      </div>"
            ]
          },
          "metadata": {},
          "execution_count": 5
        }
      ],
      "source": [
        "type(employee_names_Series)"
      ]
    },
    {
      "cell_type": "markdown",
      "metadata": {
        "id": "DD0Pbmvot2fP"
      },
      "source": [
        "Now, create a Series object directly. That is, not from an existing list, but by using the following structure:\n",
        "**pd.Series([...])**\n",
        "<br/>Let the elements of the Series object be the following numbers: 5, 8, 3, and 10. Name the object **work_experience_yrs.**\n"
      ]
    },
    {
      "cell_type": "markdown",
      "metadata": {
        "id": "pDWyse0st2fP"
      },
      "source": [
        "Import the 'NumPy' package to load it into the computer's memory, so that you can work with it in this Notebook Document."
      ]
    },
    {
      "cell_type": "markdown",
      "metadata": {
        "id": "61KwVpYNt2fP"
      },
      "source": [
        "*Note: Don't forget to use the widely-accepted convention as well.*"
      ]
    },
    {
      "cell_type": "code",
      "execution_count": null,
      "metadata": {
        "id": "j0_Cm7j_t2fP"
      },
      "outputs": [],
      "source": [
        "import numpy as np\n",
        "work_experience_yrs = pd.Series([5, 8, 3, 10])"
      ]
    },
    {
      "cell_type": "markdown",
      "metadata": {
        "id": "fSTLmX8Lt2fP"
      },
      "source": [
        "Execute the code cell below to create the **array_1** NumPy array object."
      ]
    },
    {
      "cell_type": "code",
      "execution_count": null,
      "metadata": {
        "id": "MZDm-CqTt2fP"
      },
      "outputs": [],
      "source": [
        "array_age = np.array([50, 53, 35, 43])\n",
        "array_age\n",
        "array_1 = np.array([50, 53, 35, 43])"
      ]
    },
    {
      "cell_type": "markdown",
      "metadata": {
        "id": "4H4syBHrt2fQ"
      },
      "source": [
        "Verify the type of the **array_age** object:"
      ]
    },
    {
      "source": [
        "type(array_age)\n"
      ],
      "cell_type": "code",
      "metadata": {
        "colab": {
          "base_uri": "https://localhost:8080/"
        },
        "id": "IiZdCpNm6SdG",
        "outputId": "7ff73215-492f-4722-f215-aa8d4cdf3921"
      },
      "execution_count": null,
      "outputs": [
        {
          "output_type": "execute_result",
          "data": {
            "text/plain": [
              "numpy.ndarray"
            ]
          },
          "metadata": {},
          "execution_count": 16
        }
      ]
    },
    {
      "cell_type": "markdown",
      "metadata": {
        "id": "X5UPnJJzt2fQ"
      },
      "source": [
        "Create a Series object called **series_age** from the NumPy array object **array_age** you just created."
      ]
    },
    {
      "source": [
        "series_age = pd.Series(array_age)"
      ],
      "cell_type": "code",
      "metadata": {
        "id": "RO83ha6r6npX"
      },
      "execution_count": null,
      "outputs": []
    },
    {
      "cell_type": "markdown",
      "metadata": {
        "id": "LMl3VFRGt2fQ"
      },
      "source": [
        "Check the type of the newly created object."
      ]
    },
    {
      "cell_type": "code",
      "source": [
        "type(series_age)"
      ],
      "metadata": {
        "colab": {
          "base_uri": "https://localhost:8080/",
          "height": 204
        },
        "id": "R6sprxu49fkf",
        "outputId": "afe06a39-0fd1-4858-be15-70b7982cc4c5"
      },
      "execution_count": null,
      "outputs": [
        {
          "output_type": "execute_result",
          "data": {
            "text/plain": [
              "pandas.core.series.Series"
            ],
            "text/html": [
              "<div style=\"max-width:800px; border: 1px solid var(--colab-border-color);\"><style>\n",
              "      pre.function-repr-contents {\n",
              "        overflow-x: auto;\n",
              "        padding: 8px 12px;\n",
              "        max-height: 500px;\n",
              "      }\n",
              "\n",
              "      pre.function-repr-contents.function-repr-contents-collapsed {\n",
              "        cursor: pointer;\n",
              "        max-height: 100px;\n",
              "      }\n",
              "    </style>\n",
              "    <pre style=\"white-space: initial; background:\n",
              "         var(--colab-secondary-surface-color); padding: 8px 12px;\n",
              "         border-bottom: 1px solid var(--colab-border-color);\"><b>pandas.core.series.Series</b><br/>def __init__(data=None, index=None, dtype: Dtype | None=None, name=None, copy: bool | None=None, fastpath: bool | lib.NoDefault=lib.no_default) -&gt; None</pre><pre class=\"function-repr-contents function-repr-contents-collapsed\" style=\"\"><a class=\"filepath\" style=\"display:none\" href=\"#\">/usr/local/lib/python3.10/dist-packages/pandas/core/series.py</a>One-dimensional ndarray with axis labels (including time series).\n",
              "\n",
              "Labels need not be unique but must be a hashable type. The object\n",
              "supports both integer- and label-based indexing and provides a host of\n",
              "methods for performing operations involving the index. Statistical\n",
              "methods from ndarray have been overridden to automatically exclude\n",
              "missing data (currently represented as NaN).\n",
              "\n",
              "Operations between Series (+, -, /, \\*, \\*\\*) align values based on their\n",
              "associated index values-- they need not be the same length. The result\n",
              "index will be the sorted union of the two indexes.\n",
              "\n",
              "Parameters\n",
              "----------\n",
              "data : array-like, Iterable, dict, or scalar value\n",
              "    Contains data stored in Series. If data is a dict, argument order is\n",
              "    maintained.\n",
              "index : array-like or Index (1d)\n",
              "    Values must be hashable and have the same length as `data`.\n",
              "    Non-unique index values are allowed. Will default to\n",
              "    RangeIndex (0, 1, 2, ..., n) if not provided. If data is dict-like\n",
              "    and index is None, then the keys in the data are used as the index. If the\n",
              "    index is not None, the resulting Series is reindexed with the index values.\n",
              "dtype : str, numpy.dtype, or ExtensionDtype, optional\n",
              "    Data type for the output Series. If not specified, this will be\n",
              "    inferred from `data`.\n",
              "    See the :ref:`user guide &lt;basics.dtypes&gt;` for more usages.\n",
              "name : Hashable, default None\n",
              "    The name to give to the Series.\n",
              "copy : bool, default False\n",
              "    Copy input data. Only affects Series or 1d ndarray input. See examples.\n",
              "\n",
              "Notes\n",
              "-----\n",
              "Please reference the :ref:`User Guide &lt;basics.series&gt;` for more information.\n",
              "\n",
              "Examples\n",
              "--------\n",
              "Constructing Series from a dictionary with an Index specified\n",
              "\n",
              "&gt;&gt;&gt; d = {&#x27;a&#x27;: 1, &#x27;b&#x27;: 2, &#x27;c&#x27;: 3}\n",
              "&gt;&gt;&gt; ser = pd.Series(data=d, index=[&#x27;a&#x27;, &#x27;b&#x27;, &#x27;c&#x27;])\n",
              "&gt;&gt;&gt; ser\n",
              "a   1\n",
              "b   2\n",
              "c   3\n",
              "dtype: int64\n",
              "\n",
              "The keys of the dictionary match with the Index values, hence the Index\n",
              "values have no effect.\n",
              "\n",
              "&gt;&gt;&gt; d = {&#x27;a&#x27;: 1, &#x27;b&#x27;: 2, &#x27;c&#x27;: 3}\n",
              "&gt;&gt;&gt; ser = pd.Series(data=d, index=[&#x27;x&#x27;, &#x27;y&#x27;, &#x27;z&#x27;])\n",
              "&gt;&gt;&gt; ser\n",
              "x   NaN\n",
              "y   NaN\n",
              "z   NaN\n",
              "dtype: float64\n",
              "\n",
              "Note that the Index is first build with the keys from the dictionary.\n",
              "After this the Series is reindexed with the given Index values, hence we\n",
              "get all NaN as a result.\n",
              "\n",
              "Constructing Series from a list with `copy=False`.\n",
              "\n",
              "&gt;&gt;&gt; r = [1, 2]\n",
              "&gt;&gt;&gt; ser = pd.Series(r, copy=False)\n",
              "&gt;&gt;&gt; ser.iloc[0] = 999\n",
              "&gt;&gt;&gt; r\n",
              "[1, 2]\n",
              "&gt;&gt;&gt; ser\n",
              "0    999\n",
              "1      2\n",
              "dtype: int64\n",
              "\n",
              "Due to input data type the Series has a `copy` of\n",
              "the original data even though `copy=False`, so\n",
              "the data is unchanged.\n",
              "\n",
              "Constructing Series from a 1d ndarray with `copy=False`.\n",
              "\n",
              "&gt;&gt;&gt; r = np.array([1, 2])\n",
              "&gt;&gt;&gt; ser = pd.Series(r, copy=False)\n",
              "&gt;&gt;&gt; ser.iloc[0] = 999\n",
              "&gt;&gt;&gt; r\n",
              "array([999,   2])\n",
              "&gt;&gt;&gt; ser\n",
              "0    999\n",
              "1      2\n",
              "dtype: int64\n",
              "\n",
              "Due to input data type the Series has a `view` on\n",
              "the original data, so\n",
              "the data is changed as well.</pre>\n",
              "      <script>\n",
              "      if (google.colab.kernel.accessAllowed && google.colab.files && google.colab.files.view) {\n",
              "        for (const element of document.querySelectorAll('.filepath')) {\n",
              "          element.style.display = 'block'\n",
              "          element.onclick = (event) => {\n",
              "            event.preventDefault();\n",
              "            event.stopPropagation();\n",
              "            google.colab.files.view(element.textContent, 263);\n",
              "          };\n",
              "        }\n",
              "      }\n",
              "      for (const element of document.querySelectorAll('.function-repr-contents')) {\n",
              "        element.onclick = (event) => {\n",
              "          event.preventDefault();\n",
              "          event.stopPropagation();\n",
              "          element.classList.toggle('function-repr-contents-collapsed');\n",
              "        };\n",
              "      }\n",
              "      </script>\n",
              "      </div>"
            ]
          },
          "metadata": {},
          "execution_count": 19
        }
      ]
    },
    {
      "cell_type": "markdown",
      "metadata": {
        "id": "FSUA2VrNt2fQ"
      },
      "source": [
        "Use the *print()* function to display the content of **series_age**."
      ]
    },
    {
      "cell_type": "code",
      "execution_count": null,
      "metadata": {
        "colab": {
          "base_uri": "https://localhost:8080/"
        },
        "id": "dhSYwWz2t2fQ",
        "outputId": "e4212f92-3b01-4790-cac3-3fa8e8f64b85"
      },
      "outputs": [
        {
          "output_type": "stream",
          "name": "stdout",
          "text": [
            "Type of series_age: <class 'pandas.core.series.Series'>\n"
          ]
        }
      ],
      "source": [
        "print(\"Type of series_age:\", type(series_age))\n"
      ]
    },
    {
      "cell_type": "markdown",
      "metadata": {
        "id": "xQc5dX3vt2fQ"
      },
      "source": [
        "## Working with Methods in Python"
      ]
    },
    {
      "cell_type": "markdown",
      "metadata": {
        "id": "TvWHvKqOt2fR"
      },
      "source": [
        "Consider the following Series object."
      ]
    },
    {
      "cell_type": "code",
      "execution_count": null,
      "metadata": {
        "id": "8g1S6JI7t2fR"
      },
      "outputs": [],
      "source": [
        "employees_work_exp = pd.Series({\n",
        "'Amy White'   : 3,\n",
        "'Jack Stewart'   : 5,\n",
        "'Richard Lauderdale'  : 4.5,\n",
        "'Sara Johnson'  : 22,\n",
        "'Patrick Adams' : 28,\n",
        "'Jessica Baker'  : 14,\n",
        "'Peter Hunt'   : 4,\n",
        "'Daniel Lloyd'  : 6,\n",
        "'John Owen'   : 1.5,\n",
        "'Jennifer Phillips'  : 10,\n",
        "'Courtney Rogers'   : 4.5,\n",
        "'Anne Robinson'  : 2,\n",
        "})"
      ]
    },
    {
      "cell_type": "markdown",
      "metadata": {
        "id": "D2RdSkUst2fR"
      },
      "source": [
        "Use a certain method to extract the top five values from this Series."
      ]
    },
    {
      "source": [
        "employees_work_exp.nlargest(5)"
      ],
      "cell_type": "code",
      "metadata": {
        "colab": {
          "base_uri": "https://localhost:8080/",
          "height": 241
        },
        "id": "I-nxhDsD-QLr",
        "outputId": "ec60811c-b3e8-471d-ebe9-cbf4099afc4e"
      },
      "execution_count": null,
      "outputs": [
        {
          "output_type": "execute_result",
          "data": {
            "text/plain": [
              "Patrick Adams        28.0\n",
              "Sara Johnson         22.0\n",
              "Jessica Baker        14.0\n",
              "Jennifer Phillips    10.0\n",
              "Daniel Lloyd          6.0\n",
              "dtype: float64"
            ],
            "text/html": [
              "<div>\n",
              "<style scoped>\n",
              "    .dataframe tbody tr th:only-of-type {\n",
              "        vertical-align: middle;\n",
              "    }\n",
              "\n",
              "    .dataframe tbody tr th {\n",
              "        vertical-align: top;\n",
              "    }\n",
              "\n",
              "    .dataframe thead th {\n",
              "        text-align: right;\n",
              "    }\n",
              "</style>\n",
              "<table border=\"1\" class=\"dataframe\">\n",
              "  <thead>\n",
              "    <tr style=\"text-align: right;\">\n",
              "      <th></th>\n",
              "      <th>0</th>\n",
              "    </tr>\n",
              "  </thead>\n",
              "  <tbody>\n",
              "    <tr>\n",
              "      <th>Patrick Adams</th>\n",
              "      <td>28.0</td>\n",
              "    </tr>\n",
              "    <tr>\n",
              "      <th>Sara Johnson</th>\n",
              "      <td>22.0</td>\n",
              "    </tr>\n",
              "    <tr>\n",
              "      <th>Jessica Baker</th>\n",
              "      <td>14.0</td>\n",
              "    </tr>\n",
              "    <tr>\n",
              "      <th>Jennifer Phillips</th>\n",
              "      <td>10.0</td>\n",
              "    </tr>\n",
              "    <tr>\n",
              "      <th>Daniel Lloyd</th>\n",
              "      <td>6.0</td>\n",
              "    </tr>\n",
              "  </tbody>\n",
              "</table>\n",
              "</div><br><label><b>dtype:</b> float64</label>"
            ]
          },
          "metadata": {},
          "execution_count": 23
        }
      ]
    },
    {
      "cell_type": "markdown",
      "metadata": {
        "id": "XE4e8te5t2fR"
      },
      "source": [
        "Use another method to extract the last few rows of **employees_work_exp**."
      ]
    },
    {
      "source": [
        "employees_work_exp.tail()"
      ],
      "cell_type": "code",
      "metadata": {
        "colab": {
          "base_uri": "https://localhost:8080/",
          "height": 241
        },
        "id": "7HU5qtNn_RIF",
        "outputId": "6ad88fd8-a0d3-44c9-c771-53906557fecf"
      },
      "execution_count": null,
      "outputs": [
        {
          "output_type": "execute_result",
          "data": {
            "text/plain": [
              "Daniel Lloyd          6.0\n",
              "John Owen             1.5\n",
              "Jennifer Phillips    10.0\n",
              "Courtney Rogers       4.5\n",
              "Anne Robinson         2.0\n",
              "dtype: float64"
            ],
            "text/html": [
              "<div>\n",
              "<style scoped>\n",
              "    .dataframe tbody tr th:only-of-type {\n",
              "        vertical-align: middle;\n",
              "    }\n",
              "\n",
              "    .dataframe tbody tr th {\n",
              "        vertical-align: top;\n",
              "    }\n",
              "\n",
              "    .dataframe thead th {\n",
              "        text-align: right;\n",
              "    }\n",
              "</style>\n",
              "<table border=\"1\" class=\"dataframe\">\n",
              "  <thead>\n",
              "    <tr style=\"text-align: right;\">\n",
              "      <th></th>\n",
              "      <th>0</th>\n",
              "    </tr>\n",
              "  </thead>\n",
              "  <tbody>\n",
              "    <tr>\n",
              "      <th>Daniel Lloyd</th>\n",
              "      <td>6.0</td>\n",
              "    </tr>\n",
              "    <tr>\n",
              "      <th>John Owen</th>\n",
              "      <td>1.5</td>\n",
              "    </tr>\n",
              "    <tr>\n",
              "      <th>Jennifer Phillips</th>\n",
              "      <td>10.0</td>\n",
              "    </tr>\n",
              "    <tr>\n",
              "      <th>Courtney Rogers</th>\n",
              "      <td>4.5</td>\n",
              "    </tr>\n",
              "    <tr>\n",
              "      <th>Anne Robinson</th>\n",
              "      <td>2.0</td>\n",
              "    </tr>\n",
              "  </tbody>\n",
              "</table>\n",
              "</div><br><label><b>dtype:</b> float64</label>"
            ]
          },
          "metadata": {},
          "execution_count": 24
        }
      ]
    },
    {
      "cell_type": "markdown",
      "metadata": {
        "id": "tFQa0ZhCt2fR"
      },
      "source": [
        "## Using .unique() and .nunique()"
      ]
    },
    {
      "cell_type": "markdown",
      "metadata": {
        "id": "MqJucVFDt2fR"
      },
      "source": [
        "Load the \"Region.csv\" file and use the .squeeze() method to convert it into a series. Store the information in a variable called **region_data**. Preview the data with the pandas *.head()* method."
      ]
    },
    {
      "cell_type": "code",
      "execution_count": 32,
      "metadata": {
        "id": "g2yR-sp5t2fR"
      },
      "outputs": [],
      "source": [
        "region_df = pd.read_csv(\"Region.csv\")"
      ]
    },
    {
      "cell_type": "markdown",
      "metadata": {
        "id": "jBiCSS00t2fS"
      },
      "source": [
        "Verify that **region_data** is a Series object."
      ]
    },
    {
      "source": [
        "type(region_data)"
      ],
      "cell_type": "code",
      "metadata": {
        "colab": {
          "base_uri": "https://localhost:8080/",
          "height": 204
        },
        "id": "989XzAwL_yRK",
        "outputId": "0a057563-2c3a-477d-8ecc-affe894b47b0"
      },
      "execution_count": 34,
      "outputs": [
        {
          "output_type": "execute_result",
          "data": {
            "text/plain": [
              "pandas.core.series.Series"
            ],
            "text/html": [
              "<div style=\"max-width:800px; border: 1px solid var(--colab-border-color);\"><style>\n",
              "      pre.function-repr-contents {\n",
              "        overflow-x: auto;\n",
              "        padding: 8px 12px;\n",
              "        max-height: 500px;\n",
              "      }\n",
              "\n",
              "      pre.function-repr-contents.function-repr-contents-collapsed {\n",
              "        cursor: pointer;\n",
              "        max-height: 100px;\n",
              "      }\n",
              "    </style>\n",
              "    <pre style=\"white-space: initial; background:\n",
              "         var(--colab-secondary-surface-color); padding: 8px 12px;\n",
              "         border-bottom: 1px solid var(--colab-border-color);\"><b>pandas.core.series.Series</b><br/>def __init__(data=None, index=None, dtype: Dtype | None=None, name=None, copy: bool | None=None, fastpath: bool | lib.NoDefault=lib.no_default) -&gt; None</pre><pre class=\"function-repr-contents function-repr-contents-collapsed\" style=\"\"><a class=\"filepath\" style=\"display:none\" href=\"#\">/usr/local/lib/python3.10/dist-packages/pandas/core/series.py</a>One-dimensional ndarray with axis labels (including time series).\n",
              "\n",
              "Labels need not be unique but must be a hashable type. The object\n",
              "supports both integer- and label-based indexing and provides a host of\n",
              "methods for performing operations involving the index. Statistical\n",
              "methods from ndarray have been overridden to automatically exclude\n",
              "missing data (currently represented as NaN).\n",
              "\n",
              "Operations between Series (+, -, /, \\*, \\*\\*) align values based on their\n",
              "associated index values-- they need not be the same length. The result\n",
              "index will be the sorted union of the two indexes.\n",
              "\n",
              "Parameters\n",
              "----------\n",
              "data : array-like, Iterable, dict, or scalar value\n",
              "    Contains data stored in Series. If data is a dict, argument order is\n",
              "    maintained.\n",
              "index : array-like or Index (1d)\n",
              "    Values must be hashable and have the same length as `data`.\n",
              "    Non-unique index values are allowed. Will default to\n",
              "    RangeIndex (0, 1, 2, ..., n) if not provided. If data is dict-like\n",
              "    and index is None, then the keys in the data are used as the index. If the\n",
              "    index is not None, the resulting Series is reindexed with the index values.\n",
              "dtype : str, numpy.dtype, or ExtensionDtype, optional\n",
              "    Data type for the output Series. If not specified, this will be\n",
              "    inferred from `data`.\n",
              "    See the :ref:`user guide &lt;basics.dtypes&gt;` for more usages.\n",
              "name : Hashable, default None\n",
              "    The name to give to the Series.\n",
              "copy : bool, default False\n",
              "    Copy input data. Only affects Series or 1d ndarray input. See examples.\n",
              "\n",
              "Notes\n",
              "-----\n",
              "Please reference the :ref:`User Guide &lt;basics.series&gt;` for more information.\n",
              "\n",
              "Examples\n",
              "--------\n",
              "Constructing Series from a dictionary with an Index specified\n",
              "\n",
              "&gt;&gt;&gt; d = {&#x27;a&#x27;: 1, &#x27;b&#x27;: 2, &#x27;c&#x27;: 3}\n",
              "&gt;&gt;&gt; ser = pd.Series(data=d, index=[&#x27;a&#x27;, &#x27;b&#x27;, &#x27;c&#x27;])\n",
              "&gt;&gt;&gt; ser\n",
              "a   1\n",
              "b   2\n",
              "c   3\n",
              "dtype: int64\n",
              "\n",
              "The keys of the dictionary match with the Index values, hence the Index\n",
              "values have no effect.\n",
              "\n",
              "&gt;&gt;&gt; d = {&#x27;a&#x27;: 1, &#x27;b&#x27;: 2, &#x27;c&#x27;: 3}\n",
              "&gt;&gt;&gt; ser = pd.Series(data=d, index=[&#x27;x&#x27;, &#x27;y&#x27;, &#x27;z&#x27;])\n",
              "&gt;&gt;&gt; ser\n",
              "x   NaN\n",
              "y   NaN\n",
              "z   NaN\n",
              "dtype: float64\n",
              "\n",
              "Note that the Index is first build with the keys from the dictionary.\n",
              "After this the Series is reindexed with the given Index values, hence we\n",
              "get all NaN as a result.\n",
              "\n",
              "Constructing Series from a list with `copy=False`.\n",
              "\n",
              "&gt;&gt;&gt; r = [1, 2]\n",
              "&gt;&gt;&gt; ser = pd.Series(r, copy=False)\n",
              "&gt;&gt;&gt; ser.iloc[0] = 999\n",
              "&gt;&gt;&gt; r\n",
              "[1, 2]\n",
              "&gt;&gt;&gt; ser\n",
              "0    999\n",
              "1      2\n",
              "dtype: int64\n",
              "\n",
              "Due to input data type the Series has a `copy` of\n",
              "the original data even though `copy=False`, so\n",
              "the data is unchanged.\n",
              "\n",
              "Constructing Series from a 1d ndarray with `copy=False`.\n",
              "\n",
              "&gt;&gt;&gt; r = np.array([1, 2])\n",
              "&gt;&gt;&gt; ser = pd.Series(r, copy=False)\n",
              "&gt;&gt;&gt; ser.iloc[0] = 999\n",
              "&gt;&gt;&gt; r\n",
              "array([999,   2])\n",
              "&gt;&gt;&gt; ser\n",
              "0    999\n",
              "1      2\n",
              "dtype: int64\n",
              "\n",
              "Due to input data type the Series has a `view` on\n",
              "the original data, so\n",
              "the data is changed as well.</pre>\n",
              "      <script>\n",
              "      if (google.colab.kernel.accessAllowed && google.colab.files && google.colab.files.view) {\n",
              "        for (const element of document.querySelectorAll('.filepath')) {\n",
              "          element.style.display = 'block'\n",
              "          element.onclick = (event) => {\n",
              "            event.preventDefault();\n",
              "            event.stopPropagation();\n",
              "            google.colab.files.view(element.textContent, 263);\n",
              "          };\n",
              "        }\n",
              "      }\n",
              "      for (const element of document.querySelectorAll('.function-repr-contents')) {\n",
              "        element.onclick = (event) => {\n",
              "          event.preventDefault();\n",
              "          event.stopPropagation();\n",
              "          element.classList.toggle('function-repr-contents-collapsed');\n",
              "        };\n",
              "      }\n",
              "      </script>\n",
              "      </div>"
            ]
          },
          "metadata": {},
          "execution_count": 34
        }
      ]
    },
    {
      "cell_type": "markdown",
      "metadata": {
        "id": "baj1XfLOt2fS"
      },
      "source": [
        "Use the *.describe()* method to obtain descriptive statistics on the **region_data** Series.\n",
        "<br>Think of how many unique values there are in the data set.\n",
        "<br>*Please note that the statistics provided in the output exclude missing data.*"
      ]
    },
    {
      "cell_type": "code",
      "execution_count": 39,
      "metadata": {
        "collapsed": true,
        "jupyter": {
          "outputs_hidden": true
        },
        "id": "DWRSzJd6t2fS",
        "colab": {
          "base_uri": "https://localhost:8080/"
        },
        "outputId": "63d9da82-114f-4e96-b9d2-fe1c93913c1c"
      },
      "outputs": [
        {
          "output_type": "stream",
          "name": "stdout",
          "text": [
            "Descriptive Statistics:\n",
            "count         1042\n",
            "unique          18\n",
            "top       Region 6\n",
            "freq           326\n",
            "Name: Region, dtype: object\n",
            "\n",
            "Number of unique values: 18\n"
          ]
        }
      ],
      "source": [
        "print(\"Descriptive Statistics:\")\n",
        "print(region_data.describe())\n",
        "num_unique_values = region_data.nunique()\n",
        "print(\"\\nNumber of unique values:\", num_unique_values)"
      ]
    },
    {
      "cell_type": "markdown",
      "metadata": {
        "id": "pI-fkQKNt2fS"
      },
      "source": [
        "You can obtain some of the values from the previous output by using Python built-in functions or methods. Please extract the total number of values from the **region_data** Series, then the number of unique values. Finally, obtain a list containing all unique values from this Series."
      ]
    },
    {
      "cell_type": "code",
      "execution_count": 45,
      "metadata": {
        "id": "RukO3dzRt2fT",
        "colab": {
          "base_uri": "https://localhost:8080/"
        },
        "outputId": "3fb2b23e-08d5-4ae1-d5d7-cddc3eb789ed"
      },
      "outputs": [
        {
          "output_type": "stream",
          "name": "stdout",
          "text": [
            "1042\n",
            "18\n",
            "['Region 2' 'Region 6' 'Region 3' 'Region 1' 'Region 5' 'Region 9'\n",
            " 'Region 7' 'Region 4' 'Region 12' 'Region 16' 'Region 8' 'Region 10'\n",
            " 'Region 13' 'Region 15' 'Region 11' 'Region 14' 'Region 17' 'Region 18']\n"
          ]
        }
      ],
      "source": [
        "total_values = region_data.count()\n",
        "unique_values_count = region_data.nunique()\n",
        "unique_values_list = region_data.unique()\n",
        "\n",
        "print(total_values)\n",
        "print(unique_values_count)\n",
        "print(unique_values_list)\n"
      ]
    },
    {
      "cell_type": "markdown",
      "metadata": {
        "id": "A8DYALF4t2fT"
      },
      "source": [
        "## Using .sort_values()"
      ]
    },
    {
      "cell_type": "code",
      "source": [
        "orted_region_data = region_data.sort_values()\n",
        "print(\"Sorted region_data:\")\n"
      ],
      "metadata": {
        "colab": {
          "base_uri": "https://localhost:8080/"
        },
        "id": "CaGxwMcxM4nB",
        "outputId": "9a73da6b-3d95-47da-f7cb-82a29bec340d"
      },
      "execution_count": 52,
      "outputs": [
        {
          "output_type": "stream",
          "name": "stdout",
          "text": [
            "Sorted region_data:\n"
          ]
        }
      ]
    },
    {
      "cell_type": "markdown",
      "metadata": {
        "id": "34TlD7Yst2fT"
      },
      "source": [
        "Sort the values without specifying any arguments."
      ]
    },
    {
      "cell_type": "code",
      "source": [
        "sorted_region_data = region_data.sort_values()\n",
        "print(\"Sorted region_data:\")\n",
        "print(sorted_region_data)"
      ],
      "metadata": {
        "colab": {
          "base_uri": "https://localhost:8080/"
        },
        "id": "C00VI65nPYvv",
        "outputId": "cfade1b6-6201-4850-865b-f70a71f607d6"
      },
      "execution_count": 57,
      "outputs": [
        {
          "output_type": "stream",
          "name": "stdout",
          "text": [
            "Sorted region_data:\n",
            "462    Region 1\n",
            "347    Region 1\n",
            "609    Region 1\n",
            "610    Region 1\n",
            "339    Region 1\n",
            "         ...   \n",
            "536    Region 9\n",
            "450    Region 9\n",
            "8      Region 9\n",
            "842    Region 9\n",
            "940    Region 9\n",
            "Name: Region, Length: 1042, dtype: object\n"
          ]
        }
      ]
    },
    {
      "cell_type": "markdown",
      "metadata": {
        "id": "Ze78Cra-t2fT"
      },
      "source": [
        "*Please note that the numbers go from 1 to 18, but we are currently ordering the values as labels, not integers. 1 is succeeded by 10, then 11, and so on until 18. Then we have 2, 3, 4, etc., until 8, and eventually - 9.*"
      ]
    },
    {
      "cell_type": "code",
      "source": [
        "sorted_region_data = region_data.sort_values()\n",
        "print(\"Sorted region_data (lexicographical order):\")\n",
        "print(sorted_region_data)"
      ],
      "metadata": {
        "colab": {
          "base_uri": "https://localhost:8080/"
        },
        "id": "y0D4WIqqN9Qf",
        "outputId": "ebec1e7e-11aa-4a7d-90af-1bbe8fd46310"
      },
      "execution_count": 55,
      "outputs": [
        {
          "output_type": "stream",
          "name": "stdout",
          "text": [
            "Sorted region_data (lexicographical order):\n",
            "462    Region 1\n",
            "347    Region 1\n",
            "609    Region 1\n",
            "610    Region 1\n",
            "339    Region 1\n",
            "         ...   \n",
            "536    Region 9\n",
            "450    Region 9\n",
            "8      Region 9\n",
            "842    Region 9\n",
            "940    Region 9\n",
            "Name: Region, Length: 1042, dtype: object\n"
          ]
        }
      ]
    },
    {
      "cell_type": "markdown",
      "metadata": {
        "id": "oKOyhjoDt2fT"
      },
      "source": [
        "Sort the values, setting the *ascending* parameter equal to *True*."
      ]
    },
    {
      "cell_type": "code",
      "execution_count": 56,
      "metadata": {
        "id": "4kSJQLJBt2fU",
        "colab": {
          "base_uri": "https://localhost:8080/"
        },
        "outputId": "98f0fe30-f147-4eb6-abbf-f6e5fe1dfbc0"
      },
      "outputs": [
        {
          "output_type": "stream",
          "name": "stdout",
          "text": [
            "Sorted region_data (ascending order):\n",
            "462    Region 1\n",
            "347    Region 1\n",
            "609    Region 1\n",
            "610    Region 1\n",
            "339    Region 1\n",
            "         ...   \n",
            "536    Region 9\n",
            "450    Region 9\n",
            "8      Region 9\n",
            "842    Region 9\n",
            "940    Region 9\n",
            "Name: Region, Length: 1042, dtype: object\n"
          ]
        }
      ],
      "source": [
        "sorted_region_data = region_data.sort_values(ascending=True)\n",
        "\n",
        "print(\"Sorted region_data (ascending order):\")\n",
        "print(sorted_region_data)"
      ]
    },
    {
      "cell_type": "markdown",
      "metadata": {
        "id": "zvZWh4FWt2fU"
      },
      "source": [
        "Sort the values in **region_data** in descending order."
      ]
    },
    {
      "cell_type": "code",
      "execution_count": 58,
      "metadata": {
        "id": "ZBE5NdZct2fU",
        "colab": {
          "base_uri": "https://localhost:8080/"
        },
        "outputId": "1fba7803-f37b-44fa-bccf-3203264daff3"
      },
      "outputs": [
        {
          "output_type": "stream",
          "name": "stdout",
          "text": [
            "Sorted region_data (descending order):\n",
            "450    Region 9\n",
            "842    Region 9\n",
            "141    Region 9\n",
            "940    Region 9\n",
            "8      Region 9\n",
            "         ...   \n",
            "569    Region 1\n",
            "892    Region 1\n",
            "558    Region 1\n",
            "557    Region 1\n",
            "309    Region 1\n",
            "Name: Region, Length: 1042, dtype: object\n"
          ]
        }
      ],
      "source": [
        "sorted_region_data_desc = region_data.sort_values(ascending=False)\n",
        "print(\"Sorted region_data (descending order):\")\n",
        "print(sorted_region_data_desc)\n"
      ]
    },
    {
      "cell_type": "markdown",
      "metadata": {
        "id": "7swrFbLrt2fU"
      },
      "source": [
        "## Introduction to pandas DataFrames"
      ]
    },
    {
      "cell_type": "markdown",
      "metadata": {
        "id": "Gkak_fhLt2fU"
      },
      "source": [
        "Import the pandas and numpy libraries by using the relevant well-known conventions."
      ]
    },
    {
      "cell_type": "code",
      "execution_count": 59,
      "metadata": {
        "id": "QtCwhLOnt2fU"
      },
      "outputs": [],
      "source": [
        "import pandas as pd\n",
        "import numpy as np"
      ]
    },
    {
      "cell_type": "markdown",
      "metadata": {
        "id": "aBHOI7_at2fU"
      },
      "source": [
        "The goal of this exercise is to solidify your knowledge and understanding of the fundamentals of using pandas DataFrames."
      ]
    },
    {
      "cell_type": "markdown",
      "metadata": {
        "id": "0ndDqy11t2fV"
      },
      "source": [
        "Execute the next code cell to create the array called **array_c**."
      ]
    },
    {
      "cell_type": "code",
      "execution_count": 60,
      "metadata": {
        "id": "m9KikB0Rt2fV",
        "colab": {
          "base_uri": "https://localhost:8080/"
        },
        "outputId": "c16d90d7-1e1d-4f5e-8009-64620a096be1"
      },
      "outputs": [
        {
          "output_type": "execute_result",
          "data": {
            "text/plain": [
              "array([[1000.  ,   50.  ,   78.45],\n",
              "       [ 700.  ,  112.  ,   35.5 ]])"
            ]
          },
          "metadata": {},
          "execution_count": 60
        }
      ],
      "source": [
        "array_c = np.array([[1000, 50, 78.45], [700, 112, 35.5]])\n",
        "array_c"
      ]
    },
    {
      "cell_type": "markdown",
      "metadata": {
        "id": "Uyq6w5FAt2fV"
      },
      "source": [
        "Convert **array_c** into a DataFrame, called **company_statistics**. Assign the column names and row labels from the following lists as column names and index of this DataFrame, respectively."
      ]
    },
    {
      "cell_type": "code",
      "execution_count": 61,
      "metadata": {
        "id": "75_3RF-bt2fV",
        "colab": {
          "base_uri": "https://localhost:8080/"
        },
        "outputId": "94168c9c-5519-41f7-8661-7d56e251f95d"
      },
      "outputs": [
        {
          "output_type": "execute_result",
          "data": {
            "text/plain": [
              "['No. of Employees', 'Avg. Annual Revenue ($)', 'Share price ($)']"
            ]
          },
          "metadata": {},
          "execution_count": 61
        }
      ],
      "source": [
        "# column names\n",
        "['No. of Employees', 'Avg. Annual Revenue ($)', 'Share price ($)']"
      ]
    },
    {
      "cell_type": "code",
      "source": [
        "column_names = ['No. of Employees', 'Avg. Annual Revenue ($)', 'Share price ($)']"
      ],
      "metadata": {
        "id": "dTxMp0FLSKz7"
      },
      "execution_count": 66,
      "outputs": []
    },
    {
      "cell_type": "code",
      "execution_count": 67,
      "metadata": {
        "id": "_rJguyIyt2fV",
        "colab": {
          "base_uri": "https://localhost:8080/"
        },
        "outputId": "eee7caf6-e24e-4a1e-9598-9862d36fa1cd"
      },
      "outputs": [
        {
          "output_type": "execute_result",
          "data": {
            "text/plain": [
              "['Company A', 'Company B']"
            ]
          },
          "metadata": {},
          "execution_count": 67
        }
      ],
      "source": [
        "# row labels\n",
        "['Company A', 'Company B']"
      ]
    },
    {
      "cell_type": "markdown",
      "metadata": {
        "id": "4jvGPCPtt2fV"
      },
      "source": [
        "Display the **company_statistics** DataFrame."
      ]
    },
    {
      "cell_type": "code",
      "execution_count": 68,
      "metadata": {
        "id": "Km3Zjwkft2fV",
        "colab": {
          "base_uri": "https://localhost:8080/"
        },
        "outputId": "2924f857-9c06-443e-aed0-d06ef23ccee4"
      },
      "outputs": [
        {
          "output_type": "stream",
          "name": "stdout",
          "text": [
            "           No. of Employees  Avg. Annual Revenue ($)  Share price ($)\n",
            "Company A            1000.0                     50.0            78.45\n",
            "Company B             700.0                    112.0            35.50\n"
          ]
        }
      ],
      "source": [
        "company_statistics = pd.DataFrame(array_c, columns=column_names, index=row_labels)\n",
        "print(company_statistics)\n"
      ]
    },
    {
      "cell_type": "markdown",
      "metadata": {
        "id": "CU3R1y41t2fW"
      },
      "source": [
        "Import the *Sales-products.csv* dataset into a DataFrame object called **sales_products_data**."
      ]
    },
    {
      "cell_type": "code",
      "source": [
        "sales_products_data = pd.read_csv(\"/content/Sales-products.csv\")"
      ],
      "metadata": {
        "id": "OUb33_vnTEKC"
      },
      "execution_count": 73,
      "outputs": []
    },
    {
      "cell_type": "markdown",
      "metadata": {
        "id": "TEMK4u0It2fW"
      },
      "source": [
        "*Note: Please use the default index provided for this DataFrame throughout this exercise.*"
      ]
    },
    {
      "cell_type": "code",
      "execution_count": 74,
      "metadata": {
        "id": "wFRNpvBEt2fW",
        "colab": {
          "base_uri": "https://localhost:8080/"
        },
        "outputId": "ee9c4a6e-7b19-4ff4-c130-85f5fd40b50f"
      },
      "outputs": [
        {
          "output_type": "stream",
          "name": "stdout",
          "text": [
            "     SaleID RetailerCountry OrderMethod   RetailerType           ProductLine  \\\n",
            "0  SaleID_1   United States         Fax  Outdoors Shop  Personal Accessories   \n",
            "1  SaleID_2   United States         Fax  Outdoors Shop      Sports Equipment   \n",
            "2  SaleID_3   United States         Fax  Outdoors Shop                   NaN   \n",
            "3  SaleID_4   United States         Fax  Outdoors Shop                   NaN   \n",
            "4  SaleID_5   United States         NaN  Outdoors Shop  Personal Accessories   \n",
            "\n",
            "    ProductType                    Product    Year  Quarter   Revenue  \\\n",
            "0  Cooking Gear  TrailChef Deluxe Cook Set  2018.0  Q1 2018  59728.66   \n",
            "1  Cooking Gear     TrailChef Double Flame  2018.0  Q1 2018  36050.32   \n",
            "2         Tents                  Star Dome  2018.0  Q1 2018  90040.48   \n",
            "3         Tents               Star Gazer 2  2018.0  Q1 2018       NaN   \n",
            "4     First Aid         Compact Relief Kit  2018.0  Q1 2018       NaN   \n",
            "\n",
            "   Quantity  GrossMargin  \n",
            "0     491.0     0.357548  \n",
            "1     254.0     0.484274  \n",
            "2     149.0          NaN  \n",
            "3     305.0     0.292938  \n",
            "4     182.0     0.610710  \n"
          ]
        }
      ],
      "source": [
        "print(sales_products_data.head())\n"
      ]
    },
    {
      "cell_type": "markdown",
      "metadata": {
        "id": "RT4xFeMbt2fW"
      },
      "source": [
        "Verify that the obtained object is a pandas DataFrame."
      ]
    },
    {
      "cell_type": "code",
      "source": [
        "print(type(sales_products_data))"
      ],
      "metadata": {
        "colab": {
          "base_uri": "https://localhost:8080/"
        },
        "id": "zC9_XfKTUfUs",
        "outputId": "6d3317f1-2951-42fc-8f31-186f5a930af6"
      },
      "execution_count": 75,
      "outputs": [
        {
          "output_type": "stream",
          "name": "stdout",
          "text": [
            "<class 'pandas.core.frame.DataFrame'>\n"
          ]
        }
      ]
    },
    {
      "cell_type": "markdown",
      "metadata": {
        "id": "jWs9oDN3t2fW"
      },
      "source": [
        "Try out a well-known pandas method used for Series on this DataFrame to obtain its last five rows."
      ]
    },
    {
      "cell_type": "code",
      "execution_count": 77,
      "metadata": {
        "id": "gmGfstMWt2fW",
        "colab": {
          "base_uri": "https://localhost:8080/"
        },
        "outputId": "2d731858-9729-4e11-b12e-8907ff6b2faa"
      },
      "outputs": [
        {
          "output_type": "stream",
          "name": "stdout",
          "text": [
            "           SaleID RetailerCountry  OrderMethod   RetailerType  \\\n",
            "1271  SaleID_1272           Spain  Sales visit  Outdoors Shop   \n",
            "1272  SaleID_1273           Spain  Sales visit  Outdoors Shop   \n",
            "1273  SaleID_1274           Spain  Sales visit  Outdoors Shop   \n",
            "1274  SaleID_1275           Spain  Sales visit  Outdoors Shop   \n",
            "1275  SaleID_1276           Spain  Sales visit  Outdoors Shop   \n",
            "\n",
            "               ProductLine           ProductType                Product  \\\n",
            "1271  Personal Accessories                  Rope          Husky Rope 60   \n",
            "1272    Outdoor Protection  Climbing Accessories  Firefly Climbing Lamp   \n",
            "1273  Personal Accessories  Climbing Accessories        Firefly Charger   \n",
            "1274  Personal Accessories                 Tools            Granite Axe   \n",
            "1275     Camping Equipment                 Tools        Granite Extreme   \n",
            "\n",
            "        Year  Quarter   Revenue  Quantity  GrossMargin  \n",
            "1271  2020.0  Q3 2020  30916.50     173.0     0.298114  \n",
            "1272  2020.0  Q3 2020   7536.29     193.0     0.445287  \n",
            "1273  2020.0  Q3 2020  12306.48     238.0     0.568420  \n",
            "1274  2020.0  Q3 2020  56499.00    1472.0     0.490667  \n",
            "1275  2020.0  Q3 2020  89427.00    1178.0     0.386895  \n"
          ]
        }
      ],
      "source": [
        "last_five_rows = sales_products_data.tail()\n",
        "print(last_five_rows)"
      ]
    },
    {
      "cell_type": "code",
      "execution_count": null,
      "metadata": {
        "id": "DLi5Y2FIt2fW"
      },
      "outputs": [],
      "source": []
    },
    {
      "cell_type": "markdown",
      "metadata": {
        "id": "YKd14DUDt2fW"
      },
      "source": [
        "## pandas DataFrames - Common Attributes"
      ]
    },
    {
      "cell_type": "markdown",
      "metadata": {
        "id": "_lb85dGQt2fX"
      },
      "source": [
        "Import the *Sales-products.csv* dataset into a DataFrame object called **sales_products_data**."
      ]
    },
    {
      "cell_type": "markdown",
      "metadata": {
        "id": "oe2hla3Ft2fX"
      },
      "source": [
        "*Note: Please use the default index provided for this DataFrame throughout this exercise.*"
      ]
    },
    {
      "cell_type": "code",
      "execution_count": 78,
      "metadata": {
        "scrolled": true,
        "id": "45WbplRot2fX",
        "colab": {
          "base_uri": "https://localhost:8080/"
        },
        "outputId": "9cbb6543-37ce-4660-b180-d41de82e2c56"
      },
      "outputs": [
        {
          "output_type": "stream",
          "name": "stdout",
          "text": [
            "     SaleID RetailerCountry OrderMethod   RetailerType           ProductLine  \\\n",
            "0  SaleID_1   United States         Fax  Outdoors Shop  Personal Accessories   \n",
            "1  SaleID_2   United States         Fax  Outdoors Shop      Sports Equipment   \n",
            "2  SaleID_3   United States         Fax  Outdoors Shop                   NaN   \n",
            "3  SaleID_4   United States         Fax  Outdoors Shop                   NaN   \n",
            "4  SaleID_5   United States         NaN  Outdoors Shop  Personal Accessories   \n",
            "\n",
            "    ProductType                    Product    Year  Quarter   Revenue  \\\n",
            "0  Cooking Gear  TrailChef Deluxe Cook Set  2018.0  Q1 2018  59728.66   \n",
            "1  Cooking Gear     TrailChef Double Flame  2018.0  Q1 2018  36050.32   \n",
            "2         Tents                  Star Dome  2018.0  Q1 2018  90040.48   \n",
            "3         Tents               Star Gazer 2  2018.0  Q1 2018       NaN   \n",
            "4     First Aid         Compact Relief Kit  2018.0  Q1 2018       NaN   \n",
            "\n",
            "   Quantity  GrossMargin  \n",
            "0     491.0     0.357548  \n",
            "1     254.0     0.484274  \n",
            "2     149.0          NaN  \n",
            "3     305.0     0.292938  \n",
            "4     182.0     0.610710  \n"
          ]
        }
      ],
      "source": [
        "sales_products_data = pd.read_csv(\"/content/Sales-products.csv\")\n",
        "print(sales_products_data.head())"
      ]
    },
    {
      "cell_type": "markdown",
      "metadata": {
        "id": "nZ9UKERyt2fX"
      },
      "source": [
        "Return the index of the **sales_products_data** DataFrame."
      ]
    },
    {
      "cell_type": "code",
      "source": [
        "index_of_sales_products_data = sales_products_data.index\n",
        "print(index_of_sales_products_data)"
      ],
      "metadata": {
        "colab": {
          "base_uri": "https://localhost:8080/"
        },
        "id": "SUwbbdnvVxeG",
        "outputId": "cd943273-b7fe-41be-c430-fcf47c57fbb6"
      },
      "execution_count": 80,
      "outputs": [
        {
          "output_type": "stream",
          "name": "stdout",
          "text": [
            "RangeIndex(start=0, stop=1276, step=1)\n"
          ]
        }
      ]
    },
    {
      "cell_type": "markdown",
      "metadata": {
        "id": "S30j9RFmt2fX"
      },
      "source": [
        "Verify that **sales_products_data** is a RangeIndex object in an alternative way by using the **type()** funciton."
      ]
    },
    {
      "cell_type": "code",
      "execution_count": 81,
      "metadata": {
        "id": "N6mAitROt2fX",
        "colab": {
          "base_uri": "https://localhost:8080/"
        },
        "outputId": "72d53bf6-8c10-40f8-f243-63192aafca85"
      },
      "outputs": [
        {
          "output_type": "stream",
          "name": "stdout",
          "text": [
            "<class 'pandas.core.indexes.range.RangeIndex'>\n"
          ]
        }
      ],
      "source": [
        "index_type = type(sales_products_data.index)\n",
        "print(index_type)\n"
      ]
    },
    {
      "cell_type": "markdown",
      "metadata": {
        "id": "cZ-ZyeQLt2fY"
      },
      "source": [
        "Retrieve and Index object containing all column names from the **sales_products_data** DataFrame."
      ]
    },
    {
      "cell_type": "code",
      "execution_count": 82,
      "metadata": {
        "scrolled": true,
        "id": "6YpYHoU0t2fY",
        "colab": {
          "base_uri": "https://localhost:8080/"
        },
        "outputId": "9217cca6-1561-443d-90c2-1954d23fcb0c"
      },
      "outputs": [
        {
          "output_type": "stream",
          "name": "stdout",
          "text": [
            "Index(['SaleID', 'RetailerCountry', 'OrderMethod', 'RetailerType',\n",
            "       'ProductLine', 'ProductType', 'Product', 'Year', 'Quarter', 'Revenue',\n",
            "       'Quantity', 'GrossMargin'],\n",
            "      dtype='object')\n"
          ]
        }
      ],
      "source": [
        "column_names = sales_products_data.columns\n",
        "print(column_names)"
      ]
    },
    {
      "cell_type": "markdown",
      "metadata": {
        "id": "DWCW3z9ft2fY"
      },
      "source": [
        "You are requested to create a new DataFrame, called **df**, whose data is obtained from the the names of the columns of **sales_products_data** DataFrame, while the column names are obtained from the **new_column_names** list.\n",
        "<br/><br/> First, execute the next cell to create **new_column_names**, and then in the next cell try creating the **df** DataFrame yourself (by helping yourself with the newly created **new_column_names** list).\n",
        "<br/><br/> *Note: There are two ways to achieve this - one would be through utilizing the* **columns** *parameter, and the other – with the help of the* **\"columns\"** *attribute. Choose whichever option you prefer (or why not try both!).*"
      ]
    },
    {
      "cell_type": "code",
      "execution_count": 88,
      "metadata": {
        "id": "R-5f0uwlt2fY"
      },
      "outputs": [],
      "source": [
        "new_column_names = ['SaleID', 'Country', 'OrderMethod', 'Retailer', 'Line',\n",
        "                    'Type', 'Product', 'YearOfSales', 'Quarter', 'Revenue',\n",
        "                    'Quantity', 'Margin']"
      ]
    },
    {
      "cell_type": "markdown",
      "metadata": {
        "id": "BqlimgT8t2fZ"
      },
      "source": [
        "Display the \"head\" of the **df** DataFrame."
      ]
    },
    {
      "cell_type": "code",
      "execution_count": 95,
      "metadata": {
        "id": "avpjVnOvt2fZ",
        "colab": {
          "base_uri": "https://localhost:8080/"
        },
        "outputId": "ba6587b6-af2d-477c-8090-3fdeea35887d"
      },
      "outputs": [
        {
          "output_type": "stream",
          "name": "stdout",
          "text": [
            "     SaleID        Country OrderMethod       Retailer                  Line  \\\n",
            "0  SaleID_1  United States         Fax  Outdoors Shop  Personal Accessories   \n",
            "1  SaleID_2  United States         Fax  Outdoors Shop      Sports Equipment   \n",
            "2  SaleID_3  United States         Fax  Outdoors Shop                   NaN   \n",
            "3  SaleID_4  United States         Fax  Outdoors Shop                   NaN   \n",
            "4  SaleID_5  United States         NaN  Outdoors Shop  Personal Accessories   \n",
            "\n",
            "           Type                    Product YearOfSales  Quarter   Revenue  \\\n",
            "0  Cooking Gear  TrailChef Deluxe Cook Set      2018.0  Q1 2018  59728.66   \n",
            "1  Cooking Gear     TrailChef Double Flame      2018.0  Q1 2018  36050.32   \n",
            "2         Tents                  Star Dome      2018.0  Q1 2018  90040.48   \n",
            "3         Tents               Star Gazer 2      2018.0  Q1 2018       NaN   \n",
            "4     First Aid         Compact Relief Kit      2018.0  Q1 2018       NaN   \n",
            "\n",
            "  Quantity    Margin  \n",
            "0    491.0  0.357548  \n",
            "1    254.0  0.484274  \n",
            "2    149.0       NaN  \n",
            "3    305.0  0.292938  \n",
            "4    182.0   0.61071  \n"
          ]
        }
      ],
      "source": [
        "print(df.head())\n",
        "\n"
      ]
    },
    {
      "cell_type": "markdown",
      "metadata": {
        "id": "sF_PB94Ot2fZ"
      },
      "source": [
        "Use an attribute to obtain metadata about the types of data stored in the different columns of the **sales_products_data** DataFrame."
      ]
    },
    {
      "cell_type": "code",
      "execution_count": 96,
      "metadata": {
        "id": "vPZiHOeTt2fZ",
        "colab": {
          "base_uri": "https://localhost:8080/"
        },
        "outputId": "853e0036-3964-46d7-cc93-707d234b1d02"
      },
      "outputs": [
        {
          "output_type": "stream",
          "name": "stdout",
          "text": [
            "SaleID              object\n",
            "RetailerCountry     object\n",
            "OrderMethod         object\n",
            "RetailerType        object\n",
            "ProductLine         object\n",
            "ProductType         object\n",
            "Product             object\n",
            "Year               float64\n",
            "Quarter             object\n",
            "Revenue            float64\n",
            "Quantity           float64\n",
            "GrossMargin        float64\n",
            "dtype: object\n"
          ]
        }
      ],
      "source": [
        "column_data_types = sales_products_data.dtypes\n",
        "print(column_data_types)"
      ]
    },
    {
      "cell_type": "markdown",
      "metadata": {
        "id": "P75s3Tspt2fZ"
      },
      "source": [
        "Obtain a Numpy array containing all values of the **sales_products_data**.\n",
        "<br/><br/> *Note: There are two ways to achieve this! Try both, but keep in mind that pandas developers advise us to stick to using the method.*"
      ]
    },
    {
      "cell_type": "code",
      "execution_count": 97,
      "metadata": {
        "id": "6nMALDqpt2fa",
        "colab": {
          "base_uri": "https://localhost:8080/"
        },
        "outputId": "89ee99fc-cc83-44fe-d1e4-994c899ac835"
      },
      "outputs": [
        {
          "output_type": "stream",
          "name": "stdout",
          "text": [
            "[['SaleID_1' 'United States' 'Fax' ... 59728.66 491.0 0.35754797]\n",
            " ['SaleID_2' 'United States' 'Fax' ... 36050.32 254.0 0.4842745]\n",
            " ['SaleID_3' 'United States' 'Fax' ... 90040.48 149.0 nan]\n",
            " ...\n",
            " ['SaleID_1274' 'Spain' 'Sales visit' ... 12306.48 238.0 0.56842037]\n",
            " ['SaleID_1275' 'Spain' 'Sales visit' ... 56499.0 1472.0 0.49066667]\n",
            " ['SaleID_1276' 'Spain' 'Sales visit' ... 89427.0 1178.0 0.38689474]]\n"
          ]
        }
      ],
      "source": [
        "numpy_array = sales_products_data.to_numpy()\n",
        "print(numpy_array)\n"
      ]
    },
    {
      "cell_type": "code",
      "execution_count": 99,
      "metadata": {
        "id": "Srd3XQkvt2fa",
        "colab": {
          "base_uri": "https://localhost:8080/"
        },
        "outputId": "31dec677-ee45-43a0-f0ff-21c2b9e70260"
      },
      "outputs": [
        {
          "output_type": "stream",
          "name": "stdout",
          "text": [
            "[['SaleID_1' 'United States' 'Fax' ... 59728.66 491.0 0.35754797]\n",
            " ['SaleID_2' 'United States' 'Fax' ... 36050.32 254.0 0.4842745]\n",
            " ['SaleID_3' 'United States' 'Fax' ... 90040.48 149.0 nan]\n",
            " ...\n",
            " ['SaleID_1274' 'Spain' 'Sales visit' ... 12306.48 238.0 0.56842037]\n",
            " ['SaleID_1275' 'Spain' 'Sales visit' ... 56499.0 1472.0 0.49066667]\n",
            " ['SaleID_1276' 'Spain' 'Sales visit' ... 89427.0 1178.0 0.38689474]]\n"
          ]
        }
      ],
      "source": [
        "values_array = sales_products_data.values\n",
        "print(values_array)\n"
      ]
    },
    {
      "cell_type": "markdown",
      "metadata": {
        "id": "A7oLcOFtt2fa"
      },
      "source": [
        "Verify that the obtained objects are NumPy arrays with the help of the \"Type\" function."
      ]
    },
    {
      "cell_type": "code",
      "execution_count": null,
      "metadata": {
        "id": "Ue9pQQ6vt2fa"
      },
      "outputs": [],
      "source": [
        "Import the pandas and numpy libraries by using the relevant well-known conventions.\n",
        "\n",
        "import pandas as pd\n",
        "import numpy as np"
      ]
    },
    {
      "cell_type": "code",
      "execution_count": 100,
      "metadata": {
        "id": "MucXS44ht2fa",
        "colab": {
          "base_uri": "https://localhost:8080/"
        },
        "outputId": "5d8f710e-724b-48a9-eb99-dd8da4a2a413"
      },
      "outputs": [
        {
          "output_type": "stream",
          "name": "stdout",
          "text": [
            "<class 'numpy.ndarray'>\n"
          ]
        }
      ],
      "source": [
        "print(type(values_array))"
      ]
    },
    {
      "cell_type": "markdown",
      "metadata": {
        "id": "aCBZWMjft2fa"
      },
      "source": [
        "Obtain the number of rows and columns in the **sales_products_data** DataFrame."
      ]
    },
    {
      "cell_type": "code",
      "execution_count": 101,
      "metadata": {
        "id": "bxMxQGTxt2fb",
        "colab": {
          "base_uri": "https://localhost:8080/"
        },
        "outputId": "14e92571-2296-4392-cf55-29e70bc4959d"
      },
      "outputs": [
        {
          "output_type": "stream",
          "name": "stdout",
          "text": [
            "Number of rows: 1276\n",
            "Number of columns: 12\n"
          ]
        }
      ],
      "source": [
        "rows, columns = sales_products_data.shape\n",
        "print(f\"Number of rows: {rows}\")\n",
        "print(f\"Number of columns: {columns}\")\n"
      ]
    },
    {
      "cell_type": "markdown",
      "metadata": {
        "id": "Y-uqgEOQt2fb"
      },
      "source": [
        "Check if the output obtained in the previous cell is a tuple."
      ]
    },
    {
      "cell_type": "code",
      "execution_count": 102,
      "metadata": {
        "id": "ajesu9n1t2fb",
        "colab": {
          "base_uri": "https://localhost:8080/"
        },
        "outputId": "6291fe19-a960-47fb-a85c-7701c1c82e40"
      },
      "outputs": [
        {
          "output_type": "stream",
          "name": "stdout",
          "text": [
            "<class 'tuple'>\n"
          ]
        }
      ],
      "source": [
        "shape_type = type(sales_products_data.shape)\n",
        "print(shape_type)"
      ]
    },
    {
      "cell_type": "markdown",
      "metadata": {
        "id": "4bwrp6KVt2fb"
      },
      "source": [
        "## Data Selection in pandas DataFrames"
      ]
    },
    {
      "cell_type": "markdown",
      "metadata": {
        "id": "HZrtpfRqt2fb"
      },
      "source": [
        "Although we are not advised to, retrieve the data from the 'Product' column from the **sales_products_data** column *without* using the indexing operator **[ ]**."
      ]
    },
    {
      "cell_type": "code",
      "execution_count": 103,
      "metadata": {
        "id": "JsqKpFLtt2fb",
        "colab": {
          "base_uri": "https://localhost:8080/"
        },
        "outputId": "9a91dfdd-c4e3-48dc-a513-edf1bae4efa9"
      },
      "outputs": [
        {
          "output_type": "stream",
          "name": "stdout",
          "text": [
            "0    TrailChef Deluxe Cook Set\n",
            "1       TrailChef Double Flame\n",
            "2                    Star Dome\n",
            "3                 Star Gazer 2\n",
            "4           Compact Relief Kit\n",
            "Name: Product, dtype: object\n"
          ]
        }
      ],
      "source": [
        "product_column = sales_products_data.Product\n",
        "print(product_column.head())"
      ]
    },
    {
      "cell_type": "markdown",
      "metadata": {
        "id": "3ip-V4vat2fb"
      },
      "source": [
        "Retrieve the data from the 'Product' column from the **sales_products_data** column by using the indexing operator **[ ]**."
      ]
    },
    {
      "cell_type": "code",
      "execution_count": 104,
      "metadata": {
        "id": "gKrRXBjtt2fb",
        "colab": {
          "base_uri": "https://localhost:8080/"
        },
        "outputId": "4c39169c-292d-40ef-c6ff-99e41f058407"
      },
      "outputs": [
        {
          "output_type": "stream",
          "name": "stdout",
          "text": [
            "0    TrailChef Deluxe Cook Set\n",
            "1       TrailChef Double Flame\n",
            "2                    Star Dome\n",
            "3                 Star Gazer 2\n",
            "4           Compact Relief Kit\n",
            "Name: Product, dtype: object\n"
          ]
        }
      ],
      "source": [
        "product_column = sales_products_data['Product']\n",
        "print(product_column.head())"
      ]
    },
    {
      "cell_type": "markdown",
      "metadata": {
        "id": "SR1ZUu-yt2fb"
      },
      "source": [
        "Apply the **.tail()** method to the code you used in your previous response to obtain the last five rows from the \"Product\" column."
      ]
    },
    {
      "cell_type": "code",
      "execution_count": 105,
      "metadata": {
        "id": "5QC_4w19t2fc",
        "colab": {
          "base_uri": "https://localhost:8080/"
        },
        "outputId": "d807ac2e-63fc-4bbd-bf22-1742098ef0a1"
      },
      "outputs": [
        {
          "output_type": "stream",
          "name": "stdout",
          "text": [
            "1271            Husky Rope 60\n",
            "1272    Firefly Climbing Lamp\n",
            "1273          Firefly Charger\n",
            "1274              Granite Axe\n",
            "1275          Granite Extreme\n",
            "Name: Product, dtype: object\n"
          ]
        }
      ],
      "source": [
        "product_column_tail = sales_products_data['Product'].tail()\n",
        "print(product_column_tail)"
      ]
    },
    {
      "cell_type": "markdown",
      "metadata": {
        "id": "V3xtPBx_t2fc"
      },
      "source": [
        "Although we are not advised to, retrieve the data from the 'Quarter' column from the **sales_products_data** column *without* using the indexing operator **.[ ]**."
      ]
    },
    {
      "cell_type": "code",
      "execution_count": 106,
      "metadata": {
        "id": "P4DQdJ5Wt2fc",
        "colab": {
          "base_uri": "https://localhost:8080/"
        },
        "outputId": "de47a7e8-6c33-4129-f00d-ec05220990c0"
      },
      "outputs": [
        {
          "output_type": "stream",
          "name": "stdout",
          "text": [
            "0    Q1 2018\n",
            "1    Q1 2018\n",
            "2    Q1 2018\n",
            "3    Q1 2018\n",
            "4    Q1 2018\n",
            "Name: Quarter, dtype: object\n"
          ]
        }
      ],
      "source": [
        "quarter_column = sales_products_data.Quarter\n",
        "print(quarter_column.head())"
      ]
    },
    {
      "cell_type": "markdown",
      "metadata": {
        "id": "aUIvty9St2fc"
      },
      "source": [
        "Retrieve the data from the 'Quarter' column from the **sales_products_data** column by using the indexing operator **[ ]**."
      ]
    },
    {
      "cell_type": "code",
      "execution_count": 107,
      "metadata": {
        "id": "VsJ3dT8It2fc",
        "colab": {
          "base_uri": "https://localhost:8080/"
        },
        "outputId": "0b94253f-4cb5-47cb-91ee-eba14d89ab8c"
      },
      "outputs": [
        {
          "output_type": "stream",
          "name": "stdout",
          "text": [
            "0    Q1 2018\n",
            "1    Q1 2018\n",
            "2    Q1 2018\n",
            "3    Q1 2018\n",
            "4    Q1 2018\n",
            "Name: Quarter, dtype: object\n"
          ]
        }
      ],
      "source": [
        "quarter_column = sales_products_data['Quarter']\n",
        "print(quarter_column.head())"
      ]
    },
    {
      "cell_type": "markdown",
      "metadata": {
        "id": "s_QEXy2ht2fc"
      },
      "source": [
        "Use any of the 4 previous examples to verify that the data obtained from a column of a DataFrame is actually stored in a Series object:"
      ]
    },
    {
      "cell_type": "code",
      "execution_count": 108,
      "metadata": {
        "id": "33v0doMst2fc",
        "colab": {
          "base_uri": "https://localhost:8080/"
        },
        "outputId": "460c4fb3-3231-4a77-b01e-f8e49d46fbf2"
      },
      "outputs": [
        {
          "output_type": "stream",
          "name": "stdout",
          "text": [
            "<class 'pandas.core.series.Series'>\n"
          ]
        }
      ],
      "source": [
        "quarter_column = sales_products_data['Quarter']\n",
        "print(type(quarter_column))"
      ]
    },
    {
      "cell_type": "markdown",
      "metadata": {
        "id": "MnQqEF2wt2fc"
      },
      "source": [
        "<br> Use a well-know attribute and attribute chaining to obtain information about the type of data stored in the \"Revenue\" column."
      ]
    },
    {
      "cell_type": "code",
      "execution_count": 109,
      "metadata": {
        "scrolled": true,
        "id": "YY9UKxglt2fc",
        "colab": {
          "base_uri": "https://localhost:8080/"
        },
        "outputId": "591905fb-9a71-4a07-a542-6099ae12cdc2"
      },
      "outputs": [
        {
          "output_type": "stream",
          "name": "stdout",
          "text": [
            "float64\n"
          ]
        }
      ],
      "source": [
        "revenue_column_type = sales_products_data['Revenue'].dtype\n",
        "print(revenue_column_type)\n"
      ]
    },
    {
      "cell_type": "markdown",
      "metadata": {
        "id": "xhEmWZ6It2fd"
      },
      "source": [
        "**Selecting multiple columns from a DF**"
      ]
    },
    {
      "cell_type": "markdown",
      "metadata": {
        "id": "4sxcGXTot2fd"
      },
      "source": [
        "Use a list with column names within the indexing operator ([ ]) to extract data from the 'Revenue' and 'Quantity' columns from the **sales_products_data** DataFrame. Use the **.head()** method to only display the top five rows of the selection.  <br>\n",
        "Solve the problem by using a single line of code."
      ]
    },
    {
      "cell_type": "code",
      "execution_count": 110,
      "metadata": {
        "id": "eR-GQfVPt2fd",
        "colab": {
          "base_uri": "https://localhost:8080/"
        },
        "outputId": "5df1160c-a923-4f05-b21a-1a71761c74de"
      },
      "outputs": [
        {
          "output_type": "stream",
          "name": "stdout",
          "text": [
            "    Revenue  Quantity\n",
            "0  59728.66     491.0\n",
            "1  36050.32     254.0\n",
            "2  90040.48     149.0\n",
            "3       NaN     305.0\n",
            "4       NaN     182.0\n"
          ]
        }
      ],
      "source": [
        "print(sales_products_data[['Revenue', 'Quantity']].head())"
      ]
    },
    {
      "cell_type": "markdown",
      "metadata": {
        "id": "i31cERoMt2fd"
      },
      "source": [
        "Can you think of a more elegant way to obtain the same result? This option is more often encountered in professional work since it improves the legibility of your code."
      ]
    },
    {
      "cell_type": "code",
      "execution_count": 111,
      "metadata": {
        "id": "QC9TDgUXt2fd",
        "colab": {
          "base_uri": "https://localhost:8080/"
        },
        "outputId": "1bb3fcb2-3845-4fbc-e31a-a8420f387b5b"
      },
      "outputs": [
        {
          "output_type": "stream",
          "name": "stdout",
          "text": [
            "    Revenue  Quantity\n",
            "0  59728.66     491.0\n",
            "1  36050.32     254.0\n",
            "2  90040.48     149.0\n",
            "3       NaN     305.0\n",
            "4       NaN     182.0\n"
          ]
        }
      ],
      "source": [
        "columns_selected = sales_products_data[['Revenue', 'Quantity']]\n",
        "print(columns_selected.head())"
      ]
    },
    {
      "cell_type": "markdown",
      "metadata": {
        "id": "0K8OccO9t2fd"
      },
      "source": [
        "## pandas DataFrames - Indexing with .iloc[]"
      ]
    },
    {
      "cell_type": "markdown",
      "metadata": {
        "id": "FPSx5M2wt2fd"
      },
      "source": [
        "Select the data from the first row from the **sales_products_data** DataFrame (don't forget that in programming we start counting from 0!)."
      ]
    },
    {
      "cell_type": "code",
      "execution_count": 112,
      "metadata": {
        "id": "gU8NH1WZt2fd",
        "colab": {
          "base_uri": "https://localhost:8080/"
        },
        "outputId": "587012c4-25f9-4c68-92a5-42778c831b8d"
      },
      "outputs": [
        {
          "output_type": "stream",
          "name": "stdout",
          "text": [
            "SaleID                              SaleID_1\n",
            "RetailerCountry                United States\n",
            "OrderMethod                              Fax\n",
            "RetailerType                   Outdoors Shop\n",
            "ProductLine             Personal Accessories\n",
            "ProductType                     Cooking Gear\n",
            "Product            TrailChef Deluxe Cook Set\n",
            "Year                                  2018.0\n",
            "Quarter                              Q1 2018\n",
            "Revenue                             59728.66\n",
            "Quantity                               491.0\n",
            "GrossMargin                         0.357548\n",
            "Name: 0, dtype: object\n"
          ]
        }
      ],
      "source": [
        "first_row = sales_products_data.iloc[0]\n",
        "print(first_row)"
      ]
    },
    {
      "cell_type": "markdown",
      "metadata": {
        "id": "ev4Tf6yFt2fd"
      },
      "source": [
        "Select the data from the penultimate row from the **sales_products_data** DataFrame."
      ]
    },
    {
      "cell_type": "code",
      "execution_count": 113,
      "metadata": {
        "scrolled": true,
        "id": "Oa63oF2ft2fe",
        "colab": {
          "base_uri": "https://localhost:8080/"
        },
        "outputId": "1529f522-715f-4b45-da30-65a4355257a7"
      },
      "outputs": [
        {
          "output_type": "stream",
          "name": "stdout",
          "text": [
            "SaleID                      SaleID_1275\n",
            "RetailerCountry                   Spain\n",
            "OrderMethod                 Sales visit\n",
            "RetailerType              Outdoors Shop\n",
            "ProductLine        Personal Accessories\n",
            "ProductType                       Tools\n",
            "Product                     Granite Axe\n",
            "Year                             2020.0\n",
            "Quarter                         Q3 2020\n",
            "Revenue                         56499.0\n",
            "Quantity                         1472.0\n",
            "GrossMargin                    0.490667\n",
            "Name: 1274, dtype: object\n"
          ]
        }
      ],
      "source": [
        "penultimate_row = sales_products_data.iloc[-2]\n",
        "print(penultimate_row)\n"
      ]
    },
    {
      "cell_type": "markdown",
      "metadata": {
        "id": "2_7-YCQFt2fe"
      },
      "source": [
        "Select the value from the second row and sixth column of **sales_products_data** by using the **.iloc[]** accessor.\n",
        "<br><br> *Hint: If you've worked correctly, you should obtain 'Cooking Gear'.*"
      ]
    },
    {
      "cell_type": "code",
      "execution_count": 114,
      "metadata": {
        "id": "Ozqhrt8at2fe",
        "colab": {
          "base_uri": "https://localhost:8080/"
        },
        "outputId": "41c8e5a7-d6da-4381-d9a5-717e40d56603"
      },
      "outputs": [
        {
          "output_type": "stream",
          "name": "stdout",
          "text": [
            "Cooking Gear\n"
          ]
        }
      ],
      "source": [
        "value = sales_products_data.iloc[1, 5]\n",
        "print(value)"
      ]
    },
    {
      "cell_type": "markdown",
      "metadata": {
        "id": "p5KPyMItt2fe"
      },
      "source": [
        "Use the **.shape** attribute to discover the largest numbers that you can use as arguments of the **.iloc[]** accessor."
      ]
    },
    {
      "cell_type": "code",
      "execution_count": 115,
      "metadata": {
        "id": "Wp6ORcHht2fe",
        "colab": {
          "base_uri": "https://localhost:8080/"
        },
        "outputId": "9e305e92-9af6-4d99-f0c4-e810cce60c28"
      },
      "outputs": [
        {
          "output_type": "stream",
          "name": "stdout",
          "text": [
            "Max row index: 1275\n",
            "Max column index: 11\n"
          ]
        }
      ],
      "source": [
        "num_rows, num_columns = sales_products_data.shape\n",
        "print(f\"Max row index: {num_rows - 1}\")\n",
        "print(f\"Max column index: {num_columns - 1}\")\n"
      ]
    },
    {
      "cell_type": "markdown",
      "metadata": {
        "id": "ra7jE7hPt2fe"
      },
      "source": [
        "Considering the values you just obtained, use the **.iloc[]** accessor find out the value that has been stored in the last row and farthest-to-the-right column."
      ]
    },
    {
      "cell_type": "code",
      "execution_count": 116,
      "metadata": {
        "id": "SjQyWljrt2fe",
        "colab": {
          "base_uri": "https://localhost:8080/"
        },
        "outputId": "4d7983cb-1fa0-4aa0-89ff-50d94a5cfa42"
      },
      "outputs": [
        {
          "output_type": "stream",
          "name": "stdout",
          "text": [
            "0.38689474\n"
          ]
        }
      ],
      "source": [
        "num_rows, num_columns = sales_products_data.shape\n",
        "last_value = sales_products_data.iloc[num_rows - 1, num_columns - 1]\n",
        "print(last_value)\n"
      ]
    },
    {
      "cell_type": "markdown",
      "metadata": {
        "id": "WOCNBJ_jt2fe"
      },
      "source": [
        "Verify that you've obtained the correct value by applying the **.tail()** method to the **sales_products_data** DataFrame.\n",
        "<br> Observe the value that is farthest to the right on the last row."
      ]
    },
    {
      "cell_type": "code",
      "execution_count": 117,
      "metadata": {
        "scrolled": true,
        "id": "zS3v1Y7it2fe",
        "colab": {
          "base_uri": "https://localhost:8080/"
        },
        "outputId": "2b851996-e632-456e-a429-719ef7db788d"
      },
      "outputs": [
        {
          "output_type": "stream",
          "name": "stdout",
          "text": [
            "           SaleID RetailerCountry  OrderMethod   RetailerType  \\\n",
            "1271  SaleID_1272           Spain  Sales visit  Outdoors Shop   \n",
            "1272  SaleID_1273           Spain  Sales visit  Outdoors Shop   \n",
            "1273  SaleID_1274           Spain  Sales visit  Outdoors Shop   \n",
            "1274  SaleID_1275           Spain  Sales visit  Outdoors Shop   \n",
            "1275  SaleID_1276           Spain  Sales visit  Outdoors Shop   \n",
            "\n",
            "               ProductLine           ProductType                Product  \\\n",
            "1271  Personal Accessories                  Rope          Husky Rope 60   \n",
            "1272    Outdoor Protection  Climbing Accessories  Firefly Climbing Lamp   \n",
            "1273  Personal Accessories  Climbing Accessories        Firefly Charger   \n",
            "1274  Personal Accessories                 Tools            Granite Axe   \n",
            "1275     Camping Equipment                 Tools        Granite Extreme   \n",
            "\n",
            "        Year  Quarter   Revenue  Quantity  GrossMargin  \n",
            "1271  2020.0  Q3 2020  30916.50     173.0     0.298114  \n",
            "1272  2020.0  Q3 2020   7536.29     193.0     0.445287  \n",
            "1273  2020.0  Q3 2020  12306.48     238.0     0.568420  \n",
            "1274  2020.0  Q3 2020  56499.00    1472.0     0.490667  \n",
            "1275  2020.0  Q3 2020  89427.00    1178.0     0.386895  \n"
          ]
        }
      ],
      "source": [
        "print(sales_products_data.tail())"
      ]
    },
    {
      "cell_type": "markdown",
      "metadata": {
        "id": "z0XkxZAat2fe"
      },
      "source": [
        "Prove that **.iloc[]** can be applied to a Series object such as **sales_products_data['Product']** as well (e.g. by obtaining the first element from this column).\n",
        "<br><br> *Note: We are asking you to try this syntax out to make sure you are in control of obtaining the desired portion of the data regardless of the object it has been contained into. The syntax and tools are similar, while their utilization may differ.*\n",
        "<br> *This note applies to this and the next task.*"
      ]
    },
    {
      "cell_type": "code",
      "execution_count": 118,
      "metadata": {
        "id": "2D2cjhvWt2ff",
        "colab": {
          "base_uri": "https://localhost:8080/"
        },
        "outputId": "b80b0e64-f82f-4213-f50a-6c7f8380de9e"
      },
      "outputs": [
        {
          "output_type": "stream",
          "name": "stdout",
          "text": [
            "TrailChef Deluxe Cook Set\n"
          ]
        }
      ],
      "source": [
        "first_product = sales_products_data['Product'].iloc[0]\n",
        "print(first_product)"
      ]
    },
    {
      "cell_type": "markdown",
      "metadata": {
        "id": "0JvLJXW-t2ff"
      },
      "source": [
        "Although we are not advised to, when working with a Series object, we can obtain the same output without using the **.iloc[]** indexer and using \"classical\" Python indexing. Can you try that out?"
      ]
    },
    {
      "cell_type": "code",
      "execution_count": 119,
      "metadata": {
        "id": "pMhSF6jxt2fh",
        "colab": {
          "base_uri": "https://localhost:8080/"
        },
        "outputId": "1cdd22fa-c3c2-4178-b6d5-2863cede218d"
      },
      "outputs": [
        {
          "output_type": "stream",
          "name": "stdout",
          "text": [
            "TrailChef Deluxe Cook Set\n"
          ]
        }
      ],
      "source": [
        "first_product_classical = sales_products_data['Product'][0]\n",
        "print(first_product_classical)"
      ]
    },
    {
      "cell_type": "markdown",
      "metadata": {
        "id": "cIrV5Mt0t2fh"
      },
      "source": [
        "## pandas DataFrames - Indexing with .loc[]"
      ]
    },
    {
      "cell_type": "markdown",
      "metadata": {
        "id": "BUlppuw1t2fh"
      },
      "source": [
        "Retrieve the values from the first row of the DataFrame by using the specified label-based index rather than the default numeric index."
      ]
    },
    {
      "cell_type": "code",
      "execution_count": 120,
      "metadata": {
        "id": "9WaDCvPNt2fi",
        "colab": {
          "base_uri": "https://localhost:8080/"
        },
        "outputId": "7a1ceba2-8723-456d-fdf5-e997e3f26dd0"
      },
      "outputs": [
        {
          "output_type": "stream",
          "name": "stdout",
          "text": [
            "SaleID                              SaleID_1\n",
            "RetailerCountry                United States\n",
            "OrderMethod                              Fax\n",
            "RetailerType                   Outdoors Shop\n",
            "ProductLine             Personal Accessories\n",
            "ProductType                     Cooking Gear\n",
            "Product            TrailChef Deluxe Cook Set\n",
            "Year                                  2018.0\n",
            "Quarter                              Q1 2018\n",
            "Revenue                             59728.66\n",
            "Quantity                               491.0\n",
            "GrossMargin                         0.357548\n",
            "Name: 0, dtype: object\n"
          ]
        }
      ],
      "source": [
        "first_row_loc = sales_products_data.loc[0]\n",
        "print(first_row_loc)"
      ]
    },
    {
      "cell_type": "markdown",
      "metadata": {
        "id": "m__QtwoXt2fi"
      },
      "source": [
        "By using the specified label-based index again, retrieve the information stored in the 'GrossMargin' column for the 4th sale."
      ]
    },
    {
      "cell_type": "code",
      "execution_count": 121,
      "metadata": {
        "id": "98Gkg0lut2fi",
        "colab": {
          "base_uri": "https://localhost:8080/"
        },
        "outputId": "8ab96835-5411-4218-a562-6a9d734fd895"
      },
      "outputs": [
        {
          "output_type": "stream",
          "name": "stdout",
          "text": [
            "0.29293788\n"
          ]
        }
      ],
      "source": [
        "gross_margin_4th_sale = sales_products_data.loc[3, 'GrossMargin']\n",
        "print(gross_margin_4th_sale)"
      ]
    },
    {
      "cell_type": "markdown",
      "metadata": {
        "id": "TqXS9EFOt2fi"
      },
      "source": [
        "Obtain a DataFrame containg the values stored in all columns for sales numbered 15, 235, and 1147 by using the **.loc[]** indexer."
      ]
    },
    {
      "cell_type": "code",
      "execution_count": 122,
      "metadata": {
        "id": "iLxZMCCQt2fi",
        "colab": {
          "base_uri": "https://localhost:8080/"
        },
        "outputId": "2f90ecae-abe6-467b-f3b8-ef2c45da5583"
      },
      "outputs": [
        {
          "output_type": "stream",
          "name": "stdout",
          "text": [
            "           SaleID RetailerCountry OrderMethod      RetailerType  \\\n",
            "15      SaleID_16   United States         Web              Mall   \n",
            "235    SaleID_236          Mexico         Web              Mall   \n",
            "1147  SaleID_1148         Germany       Phone  Department Store   \n",
            "\n",
            "            ProductLine ProductType        Product    Year  Quarter   Revenue  \\\n",
            "15    Camping Equipment      Knives      Max Gizmo  2018.0  Q1 2018  12362.20   \n",
            "235   Camping Equipment  Binoculars  Ranger Vision  2018.0  Q3 2018   5700.00   \n",
            "1147  Camping Equipment    Lanterns  EverGlow Lamp  2020.0  Q1 2020  44998.55   \n",
            "\n",
            "      Quantity  GrossMargin  \n",
            "15       323.0     0.549791  \n",
            "235       37.0     0.370000  \n",
            "1147    1670.0     0.524364  \n"
          ]
        }
      ],
      "source": [
        "sales_data = sales_products_data.loc[[15, 235, 1147]]\n",
        "print(sales_data)"
      ]
    },
    {
      "cell_type": "markdown",
      "metadata": {
        "id": "4VPNl1ket2fi"
      },
      "source": [
        "With the help of the **.loc[]** indexer, select the last 5 records from the 'Year' column."
      ]
    },
    {
      "cell_type": "code",
      "execution_count": 124,
      "metadata": {
        "id": "wQMSlpw0t2fi",
        "colab": {
          "base_uri": "https://localhost:8080/"
        },
        "outputId": "ba24ab5f-ad3a-480c-fe56-525e62733d78"
      },
      "outputs": [
        {
          "output_type": "stream",
          "name": "stdout",
          "text": [
            "1271    2020.0\n",
            "1272    2020.0\n",
            "1273    2020.0\n",
            "1274    2020.0\n",
            "1275    2020.0\n",
            "Name: Year, dtype: float64\n"
          ]
        }
      ],
      "source": [
        "last_5_years = sales_products_data.loc[sales_products_data.index[-5:], 'Year']\n",
        "print(last_5_years)"
      ]
    },
    {
      "cell_type": "code",
      "source": [],
      "metadata": {
        "id": "Q4Aycs8equy_"
      },
      "execution_count": null,
      "outputs": []
    }
  ],
  "metadata": {
    "anaconda-cloud": {},
    "kernelspec": {
      "display_name": "Python 3 (ipykernel)",
      "language": "python",
      "name": "python3"
    },
    "language_info": {
      "codemirror_mode": {
        "name": "ipython",
        "version": 3
      },
      "file_extension": ".py",
      "mimetype": "text/x-python",
      "name": "python",
      "nbconvert_exporter": "python",
      "pygments_lexer": "ipython3",
      "version": "3.12.7"
    },
    "colab": {
      "provenance": [],
      "include_colab_link": true
    }
  },
  "nbformat": 4,
  "nbformat_minor": 0
}